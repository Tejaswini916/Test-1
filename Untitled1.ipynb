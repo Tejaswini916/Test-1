{
  "nbformat": 4,
  "nbformat_minor": 0,
  "metadata": {
    "colab": {
      "provenance": [],
      "mount_file_id": "1TmeM3RA4xrviqQNm4katXHpS2Nc9SoLx",
      "authorship_tag": "ABX9TyOULo8K4LS5Omq4LMRL6C5A",
      "include_colab_link": true
    },
    "kernelspec": {
      "name": "python3",
      "display_name": "Python 3"
    },
    "language_info": {
      "name": "python"
    }
  },
  "cells": [
    {
      "cell_type": "markdown",
      "metadata": {
        "id": "view-in-github",
        "colab_type": "text"
      },
      "source": [
        "<a href=\"https://colab.research.google.com/github/Tejaswini916/Test-1/blob/main/Untitled1.ipynb\" target=\"_parent\"><img src=\"https://colab.research.google.com/assets/colab-badge.svg\" alt=\"Open In Colab\"/></a>"
      ]
    },
    {
      "cell_type": "code",
      "execution_count": 36,
      "metadata": {
        "colab": {
          "base_uri": "https://localhost:8080/"
        },
        "id": "PhBCDCydxuuv",
        "outputId": "4a380eab-3c1a-48d1-85d7-6d7ac0cd9067"
      },
      "outputs": [
        {
          "output_type": "stream",
          "name": "stdout",
          "text": [
            "columns with missing values:\n",
            "['missing_values > 0']\n"
          ]
        }
      ],
      "source": [
        "import pandas as pd\n",
        "data = pd.read_excel('ODD.xlsx')\n",
        "missind_value = data.isnull().sum()\n",
        "missing_columns = ['missing_values > 0']\n",
        "if len(missing_columns)>0:\n",
        "    print (\"columns with missing values:\")\n",
        "    print(missing_columns)\n",
        "else:\n",
        "    print(\"There are no missing values in any columns.\")"
      ]
    },
    {
      "cell_type": "code",
      "source": [
        "import pandas as pd\n",
        "data = pd.read_excel('ODD.xlsx')\n",
        "data_types = data.dtypes\n",
        "print(\"Data types of each columns\")\n",
        "print(data_types)\n",
        "print(\"\\nData type analysis:\")\n",
        "for column,dtype in data_types.items():\n",
        "  if'data' in column.lower() and dtype!='datetime64[ns]':\n",
        "    print(f\"The column'{column}' might need to be of type datetime,but it is of type{dtype}\")\n",
        "  elif 'id' in column.lower() and dtype!='int64':\n",
        "    print(f\"The column'{column}'might need to be of type int64,but it is of {dtype}.\")\n",
        "  elif 'amount' in column.lower() and dtype!='float64':\n",
        "    print(f\"The column '{column}'might need to be of type float64,but it is of type {dtype}.\")\n",
        "  elif dtype == 'object':\n",
        "    print(f\"The columns '{column}' is of type object (string),which might need further inspection depending on its content.\")\n",
        "  else:\n",
        "    print(f\"The column '{column}' has an appropriate data type :{dtype}\")"
      ],
      "metadata": {
        "colab": {
          "base_uri": "https://localhost:8080/"
        },
        "id": "R2mDqZHm4sTr",
        "outputId": "26acff8e-72a3-475f-9b52-eb09c75e382e"
      },
      "execution_count": 58,
      "outputs": [
        {
          "output_type": "stream",
          "name": "stdout",
          "text": [
            "Data types of each columns\n",
            "Unnamed: 0                                          float64\n",
            "Write python programs to answer these questions.     object\n",
            "dtype: object\n",
            "\n",
            "Data type analysis:\n",
            "The column 'Unnamed: 0' has an appropriate data type :float64\n",
            "The columns 'Write python programs to answer these questions.' is of type object (string),which might need further inspection depending on its content.\n"
          ]
        }
      ]
    },
    {
      "cell_type": "code",
      "source": [
        "import numpy as np\n",
        "data={\n",
        "    'Employee_ID':[1,2,3,4,5],\n",
        "    'Total_Work_Hour_Per_Month':[160,9999,180,9999,170]\n",
        "}\n",
        "df = pd.DataFrame(data)\n",
        "print(\"Original Data:\")\n",
        "print(df)\n",
        "invalid_rows = df[df['Total_Work_Hour_Per_Month'] == 9999]\n",
        "print(\"\\nRows with '9999' in total_Work_Per_Month:\")\n",
        "print(invalid_rows)\n",
        "df['Total_Work_Hour_Per_Month']=df['Total_Work_Hour_Per_Month'].replace(9999,np.nan)\n",
        "print(\"\\nUpdate Data (with '9999' replace with NaN):\")\n",
        "print(df)\n",
        "df['Total_Work_Hour_Per_Month']=df['Total_Work_Hour_Per_Month'].fillna(df['Total_Work_Hour_Per_Month'].mean())\n",
        "print(\"\\nFinal Data (after filling NaN with mean value):\")\n",
        "print(df)"
      ],
      "metadata": {
        "colab": {
          "base_uri": "https://localhost:8080/"
        },
        "id": "1cZ-xtAlAjJw",
        "outputId": "b8e985ac-6603-43f4-e8c7-c1aaa8e78d64"
      },
      "execution_count": 71,
      "outputs": [
        {
          "output_type": "stream",
          "name": "stdout",
          "text": [
            "Original Data:\n",
            "   Employee_ID  Total_Work_Hour_Per_Month\n",
            "0            1                        160\n",
            "1            2                       9999\n",
            "2            3                        180\n",
            "3            4                       9999\n",
            "4            5                        170\n",
            "\n",
            "Rows with '9999' in total_Work_Per_Month:\n",
            "   Employee_ID  Total_Work_Hour_Per_Month\n",
            "1            2                       9999\n",
            "3            4                       9999\n",
            "\n",
            "Update Data (with '9999' replace with NaN):\n",
            "   Employee_ID  Total_Work_Hour_Per_Month\n",
            "0            1                      160.0\n",
            "1            2                        NaN\n",
            "2            3                      180.0\n",
            "3            4                        NaN\n",
            "4            5                      170.0\n",
            "\n",
            "Final Data (after filling NaN with mean value):\n",
            "   Employee_ID  Total_Work_Hour_Per_Month\n",
            "0            1                      160.0\n",
            "1            2                      170.0\n",
            "2            3                      180.0\n",
            "3            4                      170.0\n",
            "4            5                      170.0\n"
          ]
        }
      ]
    },
    {
      "cell_type": "markdown",
      "source": [],
      "metadata": {
        "id": "aCEWf1djS2Qp"
      }
    }
  ]
}